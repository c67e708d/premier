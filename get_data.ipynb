{
 "cells": [
  {
   "cell_type": "code",
   "execution_count": 6,
   "metadata": {},
   "outputs": [],
   "source": [
    "from bs4 import BeautifulSoup\n",
    "import pandas as pd\n",
    "import requests\n",
    "from tqdm import tqdm\n",
    "import itertools\n",
    "import datetime\n",
    "import requests_cache"
   ]
  },
  {
   "cell_type": "code",
   "execution_count": 7,
   "metadata": {},
   "outputs": [],
   "source": [
    "def get_premiere_df():\n",
    "    url_list = [f\"https://i-amabile.com/premier?pageID={i+1}\" for i in range(40)]\n",
    "    response_list = [requests.get(url) for url in tqdm(url_list)]\n",
    "    soup_list = [BeautifulSoup(response.text) for response in tqdm(response_list)]\n",
    "    table_list = list(\n",
    "        itertools.chain.from_iterable(\n",
    "            soup.select(\".single table\") for soup in tqdm(soup_list)\n",
    "        )\n",
    "    )\n",
    "    df = pd.DataFrame(dict(table=table_list))\n",
    "    df[\"date\"] = df.table.apply(\n",
    "        lambda x: datetime.datetime.strptime(\n",
    "            x.select(\"td\")[1].text.split(\"(\")[0], \"%Y年%m月%d日\"\n",
    "        )\n",
    "    )\n",
    "    df[\"title\"] = df.table.apply(lambda x: x.select_one(\"a\").text.lstrip(\"●\"))\n",
    "    df[\"link\"] = df.table.apply(lambda x: x.select_one(\"a\")[\"href\"])\n",
    "    df[\"text\"] = df.table.apply(lambda x: x.text)\n",
    "    df[\"orchestra\"] = df.title.apply(lambda x: x.split(\"第\")[0])\n",
    "    orchestra_df = df.orchestra.value_counts().to_frame().reset_index().reset_index()\n",
    "    orchestra_df.columns = [\"orchestra_id\", \"orchestra\", \"orchestra_count\"]\n",
    "    df = pd.merge(df, orchestra_df)\n",
    "    df = df.sort_values(\"date\", ascending=False)[\n",
    "        [\n",
    "            \"orchestra_id\",\n",
    "            \"orchestra\",\n",
    "            \"orchestra_count\",\n",
    "            \"date\",\n",
    "            \"title\",\n",
    "            \"text\",\n",
    "            \"link\",\n",
    "        ]\n",
    "    ].reset_index(drop=True)\n",
    "    return df"
   ]
  },
  {
   "cell_type": "code",
   "execution_count": 8,
   "metadata": {},
   "outputs": [],
   "source": [
    "requests_cache.install_cache('amabile_cache')"
   ]
  },
  {
   "cell_type": "code",
   "execution_count": 9,
   "metadata": {},
   "outputs": [
    {
     "name": "stderr",
     "output_type": "stream",
     "text": [
      "100%|██████████| 40/40 [00:00<00:00, 817.93it/s]\n",
      "100%|██████████| 40/40 [00:00<00:00, 121.94it/s]\n",
      "100%|██████████| 40/40 [00:00<00:00, 487.32it/s]\n"
     ]
    }
   ],
   "source": [
    "df = get_premiere_df()"
   ]
  },
  {
   "cell_type": "code",
   "execution_count": 10,
   "metadata": {},
   "outputs": [],
   "source": [
    "df.to_csv(\"amabile_premiere.csv\", index=False)"
   ]
  },
  {
   "cell_type": "code",
   "execution_count": null,
   "metadata": {},
   "outputs": [],
   "source": []
  }
 ],
 "metadata": {
  "kernelspec": {
   "display_name": "Python 3",
   "language": "python",
   "name": "python3"
  },
  "language_info": {
   "codemirror_mode": {
    "name": "ipython",
    "version": 3
   },
   "file_extension": ".py",
   "mimetype": "text/x-python",
   "name": "python",
   "nbconvert_exporter": "python",
   "pygments_lexer": "ipython3",
   "version": "3.7.3"
  }
 },
 "nbformat": 4,
 "nbformat_minor": 4
}
